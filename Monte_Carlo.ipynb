{
  "nbformat": 4,
  "nbformat_minor": 0,
  "metadata": {
    "colab": {
      "provenance": [],
      "authorship_tag": "ABX9TyPNJe89hf+44y1djdvdXb9G",
      "include_colab_link": true
    },
    "kernelspec": {
      "name": "python3",
      "display_name": "Python 3"
    },
    "language_info": {
      "name": "python"
    }
  },
  "cells": [
    {
      "cell_type": "markdown",
      "metadata": {
        "id": "view-in-github",
        "colab_type": "text"
      },
      "source": [
        "<a href=\"https://colab.research.google.com/github/Joao-Victor-AVM/PI_MonteCarlo/blob/main/Monte_Carlo.ipynb\" target=\"_parent\"><img src=\"https://colab.research.google.com/assets/colab-badge.svg\" alt=\"Open In Colab\"/></a>"
      ]
    },
    {
      "cell_type": "markdown",
      "source": [
        "##**Achar o Valor de Pi Atráves de Monte Carlo**"
      ],
      "metadata": {
        "id": "q_KE1sfTiQBF"
      }
    },
    {
      "cell_type": "code",
      "execution_count": null,
      "metadata": {
        "colab": {
          "base_uri": "https://localhost:8080/"
        },
        "id": "qhPcuRKhiJsd",
        "outputId": "76001318-d4b3-40f9-acae-b0f97915b80c"
      },
      "outputs": [
        {
          "output_type": "stream",
          "name": "stdout",
          "text": [
            "Pi = 3.14159265358979323846\n",
            "3.14644\n"
          ]
        }
      ],
      "source": [
        "import numpy as np\n",
        "\n",
        "N = 100000 # número de iterações\n",
        "n = 0\n",
        "#gerando as coordenadas dos pontos no quadrado unitário seguindo uma distribuição uniforme entre 0 e 1.\n",
        "\n",
        "x = np.random.uniform(size=N)\n",
        "y = np.random.uniform(size=N)\n",
        "\n",
        "#percorrendo as listas geradas de x e y, se o ponto gerado estiver dentro do primeiro quadrante do círculo, somo 1 no contador n.\n",
        "for i in range(N):\n",
        "    if x[i]**2 + y[i]**2 < 1:\n",
        "        n+=1\n",
        "#como a área de um quadrante do círculo é pi/4, multiplicamos a razão n/N por 4\n",
        "pi = 4*n/N\n",
        "\n",
        "print(\"Pi = 3.14159265358979323846\")\n",
        "print(pi)"
      ]
    }
  ]
}